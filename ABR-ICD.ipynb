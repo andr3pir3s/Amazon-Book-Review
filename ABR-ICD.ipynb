{
 "cells": [
  {
   "cell_type": "code",
   "execution_count": 87,
   "id": "486011b6",
   "metadata": {},
   "outputs": [],
   "source": [
    "    import pandas as pd\n",
    "    import numpy as np"
   ]
  },
  {
   "cell_type": "code",
   "execution_count": 88,
   "id": "e2e5cc3a",
   "metadata": {},
   "outputs": [],
   "source": [
    "df = pd.read_csv(r'C:/Users\\andre\\Downloads\\archive\\Books_rating.csv')\n",
    "df2 = pd.read_csv(r'C:/Users\\andre\\Downloads\\archive\\books_data.csv')"
   ]
  },
  {
   "cell_type": "code",
   "execution_count": 89,
   "id": "f7450d8b",
   "metadata": {
    "scrolled": true
   },
   "outputs": [],
   "source": [
    "df1_no_duplicates = df.drop_duplicates(subset=['Title'])"
   ]
  },
  {
   "cell_type": "code",
   "execution_count": 90,
   "id": "abcd0bfc",
   "metadata": {},
   "outputs": [],
   "source": [
    "df_merged = pd.merge(df1_no_duplicates, df2, on='Title')"
   ]
  },
  {
   "cell_type": "code",
   "execution_count": 91,
   "id": "7ae12e54",
   "metadata": {
    "scrolled": true
   },
   "outputs": [],
   "source": [
    "#Remoçãode colunas indesejadas\n",
    "columns_to_remove = ['Id', 'User_id', 'profileName', 'review/helpfulness', 'review/time', 'review/summary', \n",
    "                    'review/text', 'description', 'image', 'previewLink', 'publisher', 'infoLink','ratingsCount']\n",
    "df_updated =  df_merged.drop(columns=columns_to_remove)"
   ]
  },
  {
   "cell_type": "code",
   "execution_count": 92,
   "id": "732bb9bd",
   "metadata": {},
   "outputs": [],
   "source": [
    "#drop dos NaN em 'categories'\n",
    "df_updated = df_updated.dropna(subset=['categories'])"
   ]
  },
  {
   "cell_type": "code",
   "execution_count": 93,
   "id": "65cf5654",
   "metadata": {
    "scrolled": true
   },
   "outputs": [],
   "source": [
    "df_updated['publishedDate'] = df_updated['publishedDate'].str.slice(0, 4)\n",
    "df_new = df_updated"
   ]
  },
  {
   "cell_type": "code",
   "execution_count": 94,
   "id": "dd38b130",
   "metadata": {},
   "outputs": [],
   "source": [
    "#valores random nos NaN do preço\n",
    "min_value = 15\n",
    "max_value = 50\n",
    "\n",
    "random = np.random.uniform(min_value, max_value, size=df_new['Price'].isnull().sum())\n",
    "\n",
    "df_new.loc[df_new['Price'].isnull(), 'Price'] = random\n",
    "df_new['Price'] = df_new['Price'].apply(lambda x: round(x, 2))"
   ]
  },
  {
   "cell_type": "code",
   "execution_count": null,
   "id": "e9c0d711",
   "metadata": {},
   "outputs": [],
   "source": []
  }
 ],
 "metadata": {
  "kernelspec": {
   "display_name": "Python 3 (ipykernel)",
   "language": "python",
   "name": "python3"
  },
  "language_info": {
   "codemirror_mode": {
    "name": "ipython",
    "version": 3
   },
   "file_extension": ".py",
   "mimetype": "text/x-python",
   "name": "python",
   "nbconvert_exporter": "python",
   "pygments_lexer": "ipython3",
   "version": "3.10.11"
  }
 },
 "nbformat": 4,
 "nbformat_minor": 5
}
